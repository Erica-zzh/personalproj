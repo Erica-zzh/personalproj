{
 "cells": [
  {
   "cell_type": "markdown",
   "metadata": {},
   "source": [
    "# Tools for Data Science Wk6 Assignment"
   ]
  },
  {
   "cell_type": "markdown",
   "metadata": {},
   "source": [
    "## Introduction\n",
    "\n",
    "This is the notebook for Coursera Course \"Tools for Data Science\"."
   ]
  },
  {
   "cell_type": "markdown",
   "metadata": {},
   "source": [
    "## Data Science languages\n",
    "\n",
    "- **Python**: We can use Python's scientific computing libraries like Pandas, NumPy, SciPy, and Matplotlib for data science. Python can also be used for Natural language Processing (NLP) using the Natural language Toolkit (NLTK). Python is open source.\n",
    "\n",
    "- **R**: P languages's array-oriented syntax makes it eaasier to translate from math to code for learners with no or minimal programming background. R is free software.\n",
    "\n",
    "- **SQL**: SQL is a non-procedural language. SQL was designed for managing data in relational databases. If we learn SQL and use it with one database, we can apply our SQL knowledge with many other database easily. \n",
    "\n",
    "- **Java**: Data science tools built with Java include Weka, Java-ML, Apache MLlib, and Deeplearning4.\n",
    "\n",
    "- **Scala**: For data science, popular program built with Scala is Apache Spark which includes Shark, MLlib, GraphX, and Spark Streaming.\n",
    "\n",
    "- **JavaScript**: Programs built for Data Science with JavaScript include TensorFlow.js and R-js.\n",
    "\n",
    "- **Julia**: One great application of Julia for Data Science is JuliaDB.\n",
    "\n",
    "..."
   ]
  },
  {
   "cell_type": "markdown",
   "metadata": {},
   "source": [
    "## Data Science libraries\n",
    "\n",
    "- **ggplot2**: a popular library for data visualization in R.\n",
    "\n",
    "- **Matplotlib**: package for data visualization with Python.\n",
    "\n",
    "- **Leaflet**: a JavaScript library for interactive maps.\n",
    "\n",
    "- **Lattice**: a high-level data visualization library that can handle graphics without customizations.\n",
    "\n",
    "- **NumPy**: libaraies based on arrayrs and matrices, allowing us to apply mathematical functions to arrays.\n",
    "\n",
    "- **Pandas**: a library that offeres data structures and tools for effective data cleaning, manipulation, and analysis.\n",
    "\n",
    "- **Plotly**: used for web-based data visualizations that can be displayed or saved as individual HTML files.\n",
    "\n",
    "- **TensorFlow**: Deep Learning library for dataflow that was built with C++.\n",
    "\n",
    "..."
   ]
  },
  {
   "cell_type": "markdown",
   "metadata": {},
   "source": [
    "## Data Science tools\n",
    "\n",
    "<table>\n",
    "  <thead>\n",
    "    <tr>\n",
    "      <th>Data Science Tools</th>\n",
    "      <th></th>\n",
    "    </tr>\n",
    "  </thead>\n",
    "  <tbody>\n",
    "    <tr>\n",
    "      <td>Data Management Tools</td>\n",
    "      <td>Relational Databases, NoSQL Databases, Big Data platforms...</td>\n",
    "    </tr>\n",
    "    <tr>\n",
    "      <td>Data Integration and Transformation Tools</td>\n",
    "      <td>Apache Airflow, Apache Kafka...</td>\n",
    "    </tr>\n",
    "    <tr>\n",
    "      <td>Data Visualization Tools</td>\n",
    "      <td>Cognos Analytics, Tableau, PowerBI...</td>\n",
    "    </tr>\n",
    "    <tr>\n",
    "      <td>Code Asset Management Tools</td>\n",
    "      <td>Git, Github...</td>\n",
    "    </tr>\n",
    "    <tr>\n",
    "      <td>Development Environments</td>\n",
    "      <td>Jupyter Notebooks, RStudio...</td>\n",
    "    </tr>\n",
    "  </tbody>\n",
    "</table>"
   ]
  },
  {
   "cell_type": "markdown",
   "metadata": {},
   "source": [
    "## Arithmetic expression example\n",
    "$$25*4+1 = 101$$"
   ]
  },
  {
   "cell_type": "code",
   "execution_count": 2,
   "metadata": {},
   "outputs": [
    {
     "name": "stdout",
     "output_type": "stream",
     "text": [
      "101\n"
     ]
    }
   ],
   "source": [
    "# this cell mutiply and add numbers\n",
    "print(25*4+1)"
   ]
  },
  {
   "cell_type": "code",
   "execution_count": 3,
   "metadata": {},
   "outputs": [
    {
     "name": "stdout",
     "output_type": "stream",
     "text": [
      "1.1\n"
     ]
    }
   ],
   "source": [
    "# this function convert minutes to hours\n",
    "def convert_min_to_hr(minute):\n",
    "    hours = round(minute / 60, 1)\n",
    "    print(hours)\n",
    "    \n",
    "convert_min_to_hr(67)"
   ]
  },
  {
   "cell_type": "markdown",
   "metadata": {},
   "source": [
    "## Objectives\n",
    "- Create a Jupyter Notebook with markdown and code cells\n",
    "\n",
    "- List examples of languages, libraries and tools used in Data Science\n",
    "\n",
    "- Share your Jupyter Notebook publicly on GitHub\n",
    "\n",
    "- Evaluate notebooks submitted by your peers using the provided rubric\n",
    "\n",
    "- Demonstrate proficiency in Data Science toolkit knowledge"
   ]
  },
  {
   "cell_type": "markdown",
   "metadata": {},
   "source": [
    "## Author\n",
    "Erica Z"
   ]
  }
 ],
 "metadata": {
  "kernelspec": {
   "display_name": "Python 3",
   "language": "python",
   "name": "python3"
  },
  "language_info": {
   "codemirror_mode": {
    "name": "ipython",
    "version": 3
   },
   "file_extension": ".py",
   "mimetype": "text/x-python",
   "name": "python",
   "nbconvert_exporter": "python",
   "pygments_lexer": "ipython3",
   "version": "3.8.5"
  }
 },
 "nbformat": 4,
 "nbformat_minor": 4
}
